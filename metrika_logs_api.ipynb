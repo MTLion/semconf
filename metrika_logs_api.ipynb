{
 "cells": [
  {
   "cell_type": "markdown",
   "metadata": {
    "nbpresent": {
     "id": "6c60e8ec-76be-450d-9c3d-269726f991cb"
    }
   },
   "source": [
    "# Получение данных из Logs API и работа с ними"
   ]
  },
  {
   "cell_type": "markdown",
   "metadata": {
    "nbpresent": {
     "id": "bf6ef6df-b1c8-4eba-b37e-f91674bd36f8"
    }
   },
   "source": [
    "Предполагаю, что вы уже прочитали теоретическую часть в статье \"Большие данные совсем близко: руководство по самостоятельной аналитике логов Яндекс.Метрики\", если же нет - то советую с этого начать. Тем не менее, основные нюансы здесь будут продублированы и в данном блокноте.\n",
    "\n",
    "Итак, для начала подгрузим необходимые библиотеки и настроим отображение графиков прямо в блокноте."
   ]
  },
  {
   "cell_type": "code",
   "execution_count": 2,
   "metadata": {
    "collapsed": false,
    "nbpresent": {
     "id": "1138cdfc-2fca-4a59-a77a-f3237bdff6a7"
    }
   },
   "outputs": [],
   "source": [
    "import pandas as pd\n",
    "import requests\n",
    "import json\n",
    "import warnings\n",
    "warnings.simplefilter('ignore')\n",
    "%matplotlib inline"
   ]
  },
  {
   "cell_type": "markdown",
   "metadata": {
    "nbpresent": {
     "id": "efb3528b-5f76-4d12-ab22-b0f6512a836f"
    }
   },
   "source": [
    "Теперь авторизуем наше приложение в аккаунте Яндекс.Метрики, перейдя по адресу вида https://oauth.yandex.ru/authorize?response_type=token&client_id={my_app_id} (где {my_app_id} - это id вашего приложения) и разрешим приложению работать с нужным аккаунтом Яндекс.Метрики\n",
    "\n",
    "Целью этих действий является получения токена авторизации - XXXXXXXX"
   ]
  },
  {
   "cell_type": "markdown",
   "metadata": {
    "nbpresent": {
     "id": "9b1b2649-7cbe-4264-8774-c44b03367164"
    }
   },
   "source": [
    "Напишем несколько функций, которые потом будем использовать для работы с Logs API"
   ]
  },
  {
   "cell_type": "code",
   "execution_count": 23,
   "metadata": {
    "collapsed": false,
    "nbpresent": {
     "id": "fa40b5cf-fb09-4439-a672-54319988f0a0"
    }
   },
   "outputs": [],
   "source": [
    "def evaluate_request(counter_id, date1, date2, fields, source, access_token):\n",
    "    url = \"https://api-metrika.yandex.ru/management/v1/counter/\" + counter_id + \\\n",
    "\"/logrequests/evaluate?date1=\" + date1 + \"&date2=\" + date2 + \"&fields=\" + fields + \\\n",
    "\"&source=\" + source + \"&oauth_token=\" + access_token\n",
    "    result = requests.get(url)\n",
    "    result = result.text.encode('utf-8').decode('utf-8')\n",
    "    result_dict = json.loads(result)\n",
    "    return result_dict\n",
    "\n",
    "def create_request(counter_id, date1, date2, fields, source, access_token):\n",
    "    url = \"https://api-metrika.yandex.ru/management/v1/counter/\" + counter_id + \\\n",
    "\"/logrequests?date1=\" + date1 + \"&date2=\" + date2 + \"&fields=\" + fields + \\\n",
    "\"&source=\" + source + \"&oauth_token=\" + access_token\n",
    "    result = requests.post(url)\n",
    "    result = result.text.encode('utf-8').decode('utf-8')\n",
    "    result_dict = json.loads(result)\n",
    "    request_id = str(result_dict[\"log_request\"][\"request_id\"])\n",
    "    return request_id\n",
    "\n",
    "def check_request(counter_id, request_id, access_token):\n",
    "    url = \"https://api-metrika.yandex.ru/management/v1/counter/\" + counter_id + \\\n",
    "\"/logrequest/\" + request_id + \"?&oauth_token=\" + access_token\n",
    "    result = requests.get(url)\n",
    "    result = result.text.encode('utf-8').decode('utf-8')\n",
    "    result = json.loads(result)\n",
    "    return result\n",
    "\n",
    "def download_logs():\n",
    "    pass"
   ]
  },
  {
   "cell_type": "markdown",
   "metadata": {
    "nbpresent": {
     "id": "3d506b28-9658-48d6-bbdf-e0f4c21289b1"
    }
   },
   "source": [
    "Функции готовы, теперь зададим значения для их использования. Здесь вам нужно будет задать свои значения для переменных:\n",
    "\n",
    "* counter_id - напишите в кавычках номер счётчика Яндекс.Метрики, по которому вы хотите получить информацию\n",
    "* date1, date2 - здесь нужно будет написать начальную и конечную даты (в формате ГГГГ-ММ-ДД, также в кавычках)  того промежутка времени, за который вы хотите получить логи\n",
    "* fields - здесь нужно будет перечислить те данные из логов, которые вы хотите получить. В принципе это поле можно не изменять, но можно и добавить/убрать какие-то поля. Полный список полей: https://tech.yandex.ru/metrika/doc/api2/logs/fields/visits-docpage/\n",
    "* source - здесь нужно выбрать либо \"visits\", либо \"hits\", в зависимости от того, из какого источника вы хотите получить логи. В дальнейшем работа будет описана для визитов, но при желании вы можете запросить и данные на основе просмотров\n",
    "* access_token - здесь нужно будет написать ваш токен авторизации, подробная инструкция о том, как его получить, написана в статье."
   ]
  },
  {
   "cell_type": "code",
   "execution_count": 15,
   "metadata": {
    "collapsed": true,
    "nbpresent": {
     "id": "7041f684-cd59-4ed1-b745-fb3255096b08"
    }
   },
   "outputs": [],
   "source": [
    "counter_id = \"{my_counter_id}\"\n",
    "date1 = \"2017-08-01\"\n",
    "date2 = \"2017-08-31\"\n",
    "fields = \"ym:s:visitID,ym:s:counterID,ym:s:watchIDs,ym:s:date,ym:s:dateTime,ym:s:isNewUser,ym:s:startURL,\" \\\n",
    "    \"ym:s:endURL,ym:s:pageViews,ym:s:visitDuration,ym:s:bounce,ym:s:ipAddress,ym:s:params,ym:s:goalsID,\" \\\n",
    "    \"ym:s:goalsSerialNumber,ym:s:goalsDateTime,ym:s:goalsPrice,ym:s:goalsOrder,ym:s:goalsCurrency,ym:s:clientID,\" \\\n",
    "    \"ym:s:lastTrafficSource,ym:s:lastAdvEngine,ym:s:lastReferalSource,ym:s:lastSearchEngineRoot,ym:s:lastSearchEngine,\" \\\n",
    "    \"ym:s:lastSocialNetwork,ym:s:lastSocialNetworkProfile,ym:s:referer,ym:s:lastDirectClickOrder,ym:s:lastDirectBannerGroup,\" \\\n",
    "    \"ym:s:lastDirectClickBanner,ym:s:lastDirectPhraseOrCond,ym:s:lastDirectPlatformType,ym:s:lastDirectPlatform,\" \\\n",
    "    \"ym:s:lastDirectConditionType,ym:s:lastCurrencyID,ym:s:from,ym:s:UTMCampaign,ym:s:UTMContent,ym:s:UTMMedium,\" \\\n",
    "    \"ym:s:UTMSource,ym:s:UTMTerm,ym:s:regionCountry,ym:s:regionCity,ym:s:browserLanguage,ym:s:browserCountry,\" \\\n",
    "    \"ym:s:clientTimeZone,ym:s:deviceCategory,ym:s:mobilePhone,ym:s:mobilePhoneModel,ym:s:operatingSystemRoot,\" \\\n",
    "    \"ym:s:operatingSystem,ym:s:browser,ym:s:browserMajorVersion,ym:s:browserMinorVersion,ym:s:browserEngine,\" \\\n",
    "    \"ym:s:cookieEnabled,ym:s:javascriptEnabled,ym:s:screenFormat,ym:s:screenColors,ym:s:screenOrientation,\" \\\n",
    "    \"ym:s:screenWidth,ym:s:screenHeight,ym:s:physicalScreenWidth,ym:s:physicalScreenHeight,ym:s:windowClientWidth,\" \\\n",
    "    \"ym:s:windowClientHeight,ym:s:networkType\"\n",
    "source = \"visits\"\n",
    "access_token = \"{my_access_token}\""
   ]
  },
  {
   "cell_type": "markdown",
   "metadata": {
    "nbpresent": {
     "id": "63d4814e-a7a4-4cb5-ae7b-7288b595cced"
    }
   },
   "source": [
    "Проверим возможность получения отчёта"
   ]
  },
  {
   "cell_type": "code",
   "execution_count": 18,
   "metadata": {
    "collapsed": false,
    "nbpresent": {
     "id": "94079784-af39-459b-84b6-70f0dc648da1"
    }
   },
   "outputs": [
    {
     "name": "stdout",
     "output_type": "stream",
     "text": [
      "{u'log_request_evaluation': {u'max_possible_day_quantity': 52276, u'possible': True}}\n"
     ]
    }
   ],
   "source": [
    "evaluate_result = evaluate_request(counter_id = counter_id, date1=date1, date2=date2, fields=fields, source=source, access_token=access_token)\n",
    "print evaluate_result"
   ]
  },
  {
   "cell_type": "markdown",
   "metadata": {
    "nbpresent": {
     "id": "84fbbc96-d648-4f68-a09f-8592389812cb"
    }
   },
   "source": [
    "В ответе мы видим, возможно ли получить отчёт и примерное максимально возможное кол-во дней, за которое можно будет получить логи.\n",
    "Убедившись, что запрос можно создать, сделаем непосредственно сам запрос на получение отчёта"
   ]
  },
  {
   "cell_type": "code",
   "execution_count": 20,
   "metadata": {
    "collapsed": true
   },
   "outputs": [],
   "source": [
    "request_id = create_request(counter_id = counter_id, date1=date1, date2=date2, fields=fields, source=source, access_token=access_token)"
   ]
  },
  {
   "cell_type": "code",
   "execution_count": 21,
   "metadata": {
    "collapsed": false
   },
   "outputs": [
    {
     "data": {
      "text/plain": [
       "'228219'"
      ]
     },
     "execution_count": 21,
     "metadata": {},
     "output_type": "execute_result"
    }
   ],
   "source": [
    "request_id"
   ]
  },
  {
   "cell_type": "markdown",
   "metadata": {},
   "source": [
    "Запрос сделали и получили его id, теперь проверим его статус (готов ли он или нет). Проверяем, пока не увидим значение у поля status - processed."
   ]
  },
  {
   "cell_type": "code",
   "execution_count": 26,
   "metadata": {
    "collapsed": true
   },
   "outputs": [],
   "source": [
    "status = check_request(counter_id=counter_id, request_id=request_id, access_token=access_token)"
   ]
  },
  {
   "cell_type": "code",
   "execution_count": 27,
   "metadata": {
    "collapsed": false
   },
   "outputs": [
    {
     "data": {
      "text/plain": [
       "{u'log_request': {u'counter_id': 26756901,\n",
       "  u'date1': u'2017-08-01',\n",
       "  u'date2': u'2017-08-31',\n",
       "  u'fields': [u'ym:s:visitID',\n",
       "   u'ym:s:counterID',\n",
       "   u'ym:s:watchIDs',\n",
       "   u'ym:s:date',\n",
       "   u'ym:s:dateTime',\n",
       "   u'ym:s:isNewUser',\n",
       "   u'ym:s:startURL',\n",
       "   u'ym:s:endURL',\n",
       "   u'ym:s:pageViews',\n",
       "   u'ym:s:visitDuration',\n",
       "   u'ym:s:bounce',\n",
       "   u'ym:s:ipAddress',\n",
       "   u'ym:s:params',\n",
       "   u'ym:s:goalsID',\n",
       "   u'ym:s:goalsSerialNumber',\n",
       "   u'ym:s:goalsDateTime',\n",
       "   u'ym:s:goalsPrice',\n",
       "   u'ym:s:goalsOrder',\n",
       "   u'ym:s:goalsCurrency',\n",
       "   u'ym:s:clientID',\n",
       "   u'ym:s:lastTrafficSource',\n",
       "   u'ym:s:lastAdvEngine',\n",
       "   u'ym:s:lastReferalSource',\n",
       "   u'ym:s:lastSearchEngineRoot',\n",
       "   u'ym:s:lastSearchEngine',\n",
       "   u'ym:s:lastSocialNetwork',\n",
       "   u'ym:s:lastSocialNetworkProfile',\n",
       "   u'ym:s:referer',\n",
       "   u'ym:s:lastDirectClickOrder',\n",
       "   u'ym:s:lastDirectBannerGroup',\n",
       "   u'ym:s:lastDirectClickBanner',\n",
       "   u'ym:s:lastDirectPhraseOrCond',\n",
       "   u'ym:s:lastDirectPlatformType',\n",
       "   u'ym:s:lastDirectPlatform',\n",
       "   u'ym:s:lastDirectConditionType',\n",
       "   u'ym:s:lastCurrencyID',\n",
       "   u'ym:s:from',\n",
       "   u'ym:s:UTMCampaign',\n",
       "   u'ym:s:UTMContent',\n",
       "   u'ym:s:UTMMedium',\n",
       "   u'ym:s:UTMSource',\n",
       "   u'ym:s:UTMTerm',\n",
       "   u'ym:s:regionCountry',\n",
       "   u'ym:s:regionCity',\n",
       "   u'ym:s:browserLanguage',\n",
       "   u'ym:s:browserCountry',\n",
       "   u'ym:s:clientTimeZone',\n",
       "   u'ym:s:deviceCategory',\n",
       "   u'ym:s:mobilePhone',\n",
       "   u'ym:s:mobilePhoneModel',\n",
       "   u'ym:s:operatingSystemRoot',\n",
       "   u'ym:s:operatingSystem',\n",
       "   u'ym:s:browser',\n",
       "   u'ym:s:browserMajorVersion',\n",
       "   u'ym:s:browserMinorVersion',\n",
       "   u'ym:s:browserEngine',\n",
       "   u'ym:s:cookieEnabled',\n",
       "   u'ym:s:javascriptEnabled',\n",
       "   u'ym:s:screenFormat',\n",
       "   u'ym:s:screenColors',\n",
       "   u'ym:s:screenOrientation',\n",
       "   u'ym:s:screenWidth',\n",
       "   u'ym:s:screenHeight',\n",
       "   u'ym:s:physicalScreenWidth',\n",
       "   u'ym:s:physicalScreenHeight',\n",
       "   u'ym:s:windowClientWidth',\n",
       "   u'ym:s:windowClientHeight',\n",
       "   u'ym:s:networkType'],\n",
       "  u'parts': [{u'part_number': 0, u'size': 3466056}],\n",
       "  u'request_id': 228219,\n",
       "  u'size': 3466056,\n",
       "  u'source': u'visits',\n",
       "  u'status': u'processed'}}"
      ]
     },
     "execution_count": 27,
     "metadata": {},
     "output_type": "execute_result"
    }
   ],
   "source": [
    "status"
   ]
  },
  {
   "cell_type": "code",
   "execution_count": null,
   "metadata": {
    "collapsed": true
   },
   "outputs": [],
   "source": []
  }
 ],
 "metadata": {
  "anaconda-cloud": {},
  "kernelspec": {
   "display_name": "Python [conda root]",
   "language": "python",
   "name": "conda-root-py"
  },
  "language_info": {
   "codemirror_mode": {
    "name": "ipython",
    "version": 2
   },
   "file_extension": ".py",
   "mimetype": "text/x-python",
   "name": "python",
   "nbconvert_exporter": "python",
   "pygments_lexer": "ipython2",
   "version": "2.7.12"
  },
  "nbpresent": {
   "slides": {
    "016f2e23-8fd7-46f8-8a9e-ffd6ebe3f88b": {
     "id": "016f2e23-8fd7-46f8-8a9e-ffd6ebe3f88b",
     "prev": "832f009f-dc34-45f4-ba56-5943965f97de",
     "regions": {
      "fdbf04a0-2aa2-4f9f-b721-8a1f7b89f2a5": {
       "attrs": {
        "height": 0.8,
        "width": 0.8,
        "x": 0.1,
        "y": 0.1
       },
       "content": {
        "cell": "9b1b2649-7cbe-4264-8774-c44b03367164",
        "part": "whole"
       },
       "id": "fdbf04a0-2aa2-4f9f-b721-8a1f7b89f2a5"
      }
     }
    },
    "07c90cb1-bc95-4419-8bb9-f3ee2e40203a": {
     "id": "07c90cb1-bc95-4419-8bb9-f3ee2e40203a",
     "prev": "016f2e23-8fd7-46f8-8a9e-ffd6ebe3f88b",
     "regions": {
      "9335b03e-2da1-44ab-ab19-88d38e019929": {
       "attrs": {
        "height": 0.8,
        "width": 0.8,
        "x": 0.1,
        "y": 0.1
       },
       "content": {
        "cell": "fa40b5cf-fb09-4439-a672-54319988f0a0",
        "part": "whole"
       },
       "id": "9335b03e-2da1-44ab-ab19-88d38e019929"
      }
     }
    },
    "3cfc414f-4757-4e27-b088-f5d91a016bcc": {
     "id": "3cfc414f-4757-4e27-b088-f5d91a016bcc",
     "prev": "839d8179-99d2-43b7-9dac-011624093708",
     "regions": {
      "8ec5926b-3b07-4c0b-86bf-972ae3957438": {
       "attrs": {
        "height": 0.8,
        "width": 0.8,
        "x": 0.1,
        "y": 0.1
       },
       "content": {
        "cell": "7041f684-cd59-4ed1-b745-fb3255096b08",
        "part": "whole"
       },
       "id": "8ec5926b-3b07-4c0b-86bf-972ae3957438"
      }
     }
    },
    "606ae538-b912-463a-b443-14ceff62d4fc": {
     "id": "606ae538-b912-463a-b443-14ceff62d4fc",
     "prev": null,
     "regions": {
      "6881f777-ce6a-4863-8647-c383c135305d": {
       "attrs": {
        "height": 0.8,
        "width": 0.8,
        "x": 0.1,
        "y": 0.1
       },
       "content": {
        "cell": "6c60e8ec-76be-450d-9c3d-269726f991cb",
        "part": "whole"
       },
       "id": "6881f777-ce6a-4863-8647-c383c135305d"
      }
     }
    },
    "832f009f-dc34-45f4-ba56-5943965f97de": {
     "id": "832f009f-dc34-45f4-ba56-5943965f97de",
     "prev": "bb3409e2-0bc7-4315-81fe-9f30666def8a",
     "regions": {
      "dee1ede9-3506-434a-a29d-3cb0a8db30fe": {
       "attrs": {
        "height": 0.8,
        "width": 0.8,
        "x": 0.1,
        "y": 0.1
       },
       "content": {
        "cell": "efb3528b-5f76-4d12-ab22-b0f6512a836f",
        "part": "whole"
       },
       "id": "dee1ede9-3506-434a-a29d-3cb0a8db30fe"
      }
     }
    },
    "839d8179-99d2-43b7-9dac-011624093708": {
     "id": "839d8179-99d2-43b7-9dac-011624093708",
     "prev": "07c90cb1-bc95-4419-8bb9-f3ee2e40203a",
     "regions": {
      "697f850a-f442-4e94-9a45-a932b9ceb070": {
       "attrs": {
        "height": 0.8,
        "width": 0.8,
        "x": 0.1,
        "y": 0.1
       },
       "content": {
        "cell": "3d506b28-9658-48d6-bbdf-e0f4c21289b1",
        "part": "whole"
       },
       "id": "697f850a-f442-4e94-9a45-a932b9ceb070"
      }
     }
    },
    "8fb8abb8-eae5-4a24-bff6-270eacfed63a": {
     "id": "8fb8abb8-eae5-4a24-bff6-270eacfed63a",
     "prev": "606ae538-b912-463a-b443-14ceff62d4fc",
     "regions": {
      "bb5807a2-7522-48d3-b653-b71a5e5a84b6": {
       "attrs": {
        "height": 0.8,
        "width": 0.8,
        "x": 0.1,
        "y": 0.1
       },
       "content": {
        "cell": "bf6ef6df-b1c8-4eba-b37e-f91674bd36f8",
        "part": "whole"
       },
       "id": "bb5807a2-7522-48d3-b653-b71a5e5a84b6"
      }
     }
    },
    "98dc5b3d-bc59-4d9b-a16a-6b4e6bf4f4b6": {
     "id": "98dc5b3d-bc59-4d9b-a16a-6b4e6bf4f4b6",
     "prev": "ae792661-654e-4afc-8540-597171e84a41",
     "regions": {
      "40214538-1200-4485-96b1-eb9435abba3a": {
       "attrs": {
        "height": 0.8,
        "width": 0.8,
        "x": 0.1,
        "y": 0.1
       },
       "content": {
        "cell": "94079784-af39-459b-84b6-70f0dc648da1",
        "part": "whole"
       },
       "id": "40214538-1200-4485-96b1-eb9435abba3a"
      }
     }
    },
    "ae792661-654e-4afc-8540-597171e84a41": {
     "id": "ae792661-654e-4afc-8540-597171e84a41",
     "prev": "3cfc414f-4757-4e27-b088-f5d91a016bcc",
     "regions": {
      "3e5e91bd-8dd2-4df6-bd0f-725ad96a2fd4": {
       "attrs": {
        "height": 0.8,
        "width": 0.8,
        "x": 0.1,
        "y": 0.1
       },
       "content": {
        "cell": "63d4814e-a7a4-4cb5-ae7b-7288b595cced",
        "part": "whole"
       },
       "id": "3e5e91bd-8dd2-4df6-bd0f-725ad96a2fd4"
      }
     }
    },
    "bb3409e2-0bc7-4315-81fe-9f30666def8a": {
     "id": "bb3409e2-0bc7-4315-81fe-9f30666def8a",
     "prev": "8fb8abb8-eae5-4a24-bff6-270eacfed63a",
     "regions": {
      "971492b1-7196-43f3-aad8-29c0b61464ac": {
       "attrs": {
        "height": 0.8,
        "width": 0.8,
        "x": 0.1,
        "y": 0.1
       },
       "content": {
        "cell": "1138cdfc-2fca-4a59-a77a-f3237bdff6a7",
        "part": "whole"
       },
       "id": "971492b1-7196-43f3-aad8-29c0b61464ac"
      }
     }
    },
    "d365159b-9fb8-48b1-b288-a591cfa14cc9": {
     "id": "d365159b-9fb8-48b1-b288-a591cfa14cc9",
     "prev": "98dc5b3d-bc59-4d9b-a16a-6b4e6bf4f4b6",
     "regions": {
      "207ef99e-d04a-4a0e-979b-534f8e3251c0": {
       "attrs": {
        "height": 0.8,
        "width": 0.8,
        "x": 0.1,
        "y": 0.1
       },
       "content": {
        "cell": "84fbbc96-d648-4f68-a09f-8592389812cb",
        "part": "whole"
       },
       "id": "207ef99e-d04a-4a0e-979b-534f8e3251c0"
      }
     }
    }
   },
   "themes": {}
  }
 },
 "nbformat": 4,
 "nbformat_minor": 1
}
